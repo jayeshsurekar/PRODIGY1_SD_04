{
  "nbformat": 4,
  "nbformat_minor": 0,
  "metadata": {
    "colab": {
      "provenance": [],
      "authorship_tag": "ABX9TyMlhLE8HvA2K2dNR18wTlgR",
      "include_colab_link": true
    },
    "kernelspec": {
      "name": "python3",
      "display_name": "Python 3"
    },
    "language_info": {
      "name": "python"
    }
  },
  "cells": [
    {
      "cell_type": "markdown",
      "metadata": {
        "id": "view-in-github",
        "colab_type": "text"
      },
      "source": [
        "<a href=\"https://colab.research.google.com/github/jayeshsurekar/PRODIGY1_SD_04/blob/main/Sudko_Solver.ipynb\" target=\"_parent\"><img src=\"https://colab.research.google.com/assets/colab-badge.svg\" alt=\"Open In Colab\"/></a>"
      ]
    },
    {
      "cell_type": "code",
      "execution_count": 7,
      "metadata": {
        "colab": {
          "base_uri": "https://localhost:8080/"
        },
        "id": "Wqfm_E6q7N38",
        "outputId": "70af4a08-f824-4583-e43c-91d9977e795f"
      },
      "outputs": [
        {
          "output_type": "stream",
          "name": "stdout",
          "text": [
            "Sudoku puzzle solved:\n",
            "5 3 4 6 7 8 9 1 2\n",
            "6 7 2 1 9 5 3 4 8\n",
            "1 9 8 3 4 2 5 6 7\n",
            "8 5 9 7 6 1 4 2 3\n",
            "4 2 6 8 5 3 7 9 1\n",
            "7 1 3 9 2 4 8 5 6\n",
            "9 6 1 5 3 7 2 8 4\n",
            "2 8 7 4 1 9 6 3 5\n",
            "3 4 5 2 8 6 1 7 9\n"
          ]
        }
      ],
      "source": [
        "def is_valid(board, row, col, num):\n",
        "    # Check if 'num' is not in the current row\n",
        "    for x in range(9):\n",
        "        if board[row][x] == num:\n",
        "            return False\n",
        "\n",
        "    # Check if 'num' is not in the current column\n",
        "    for x in range(9):\n",
        "        if board[x][col] == num:\n",
        "            return False\n",
        "\n",
        "    # Check if 'num' is not in the current 3x3 subgrid\n",
        "    start_row = row - row % 3\n",
        "    start_col = col - col % 3\n",
        "    for i in range(3):\n",
        "        for j in range(3):\n",
        "            if board[i + start_row][j + start_col] == num:\n",
        "                return False\n",
        "\n",
        "    return True\n",
        "\n",
        "def solve_sudoku(board):\n",
        "    empty_cell = find_empty_location(board)\n",
        "    if not empty_cell:\n",
        "        return True  # Puzzle solved\n",
        "    row, col = empty_cell\n",
        "\n",
        "    for num in range(1, 10):\n",
        "        if is_valid(board, row, col, num):\n",
        "            board[row][col] = num\n",
        "            if solve_sudoku(board):\n",
        "                return True\n",
        "            board[row][col] = 0  # Undo the move (backtrack)\n",
        "\n",
        "    return False\n",
        "\n",
        "def find_empty_location(board):\n",
        "    for i in range(9):\n",
        "        for j in range(9):\n",
        "            if board[i][j] == 0:\n",
        "                return (i, j)\n",
        "    return None\n",
        "\n",
        "def print_board(board):\n",
        "    for row in board:\n",
        "        print(\" \".join(str(num) for num in row))\n",
        "\n",
        "# Example Sudoku puzzle (0s represent empty cells)\n",
        "board = [\n",
        "    [5, 3, 0, 0, 7, 0, 0, 0, 0],\n",
        "    [6, 0, 0, 1, 9, 5, 0, 0, 0],\n",
        "    [0, 9, 8, 0, 0, 0, 0, 6, 0],\n",
        "    [8, 0, 0, 0, 6, 0, 0, 0, 3],\n",
        "    [4, 0, 0, 8, 0, 3, 0, 0, 1],\n",
        "    [7, 0, 0, 0, 2, 0, 0, 0, 6],\n",
        "    [0, 6, 0, 0, 0, 0, 2, 8, 0],\n",
        "    [0, 0, 0, 4, 1, 9, 0, 0, 5],\n",
        "    [0, 0, 0, 0, 8, 0, 0, 7, 9]\n",
        "]\n",
        "\n",
        "if solve_sudoku(board):\n",
        "    print(\"Sudoku puzzle solved:\")\n",
        "    print_board(board)\n",
        "else:\n",
        "    print(\"No solution exists\")\n"
      ]
    }
  ]
}