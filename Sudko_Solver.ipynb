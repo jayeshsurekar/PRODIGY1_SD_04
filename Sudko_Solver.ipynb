{
  "nbformat": 4,
  "nbformat_minor": 0,
  "metadata": {
    "colab": {
      "provenance": []
    },
    "kernelspec": {
      "name": "python3",
      "display_name": "Python 3"
    },
    "language_info": {
      "name": "python"
    }
  },
  "cells": [
    {
      "cell_type": "code",
      "execution_count": 3,
      "metadata": {
        "colab": {
          "base_uri": "https://localhost:8080/"
        },
        "id": "Wqfm_E6q7N38",
        "outputId": "d5555637-bfc7-425d-a523-1f0e86a98b2d"
      },
      "outputs": [
        {
          "output_type": "stream",
          "name": "stdout",
          "text": [
            "Original Sudoku board:\n",
            "5 3 . . 7 . . . .\n",
            "6 . . 1 9 5 . . .\n",
            ". 9 8 . . . . 6 .\n",
            "8 . . . 6 . . . 3\n",
            "4 . . 8 . 3 . . 1\n",
            "7 . . . 2 . . . 6\n",
            ". 6 . . . . 2 8 .\n",
            ". . . 4 1 9 . . 5\n",
            ". . . . 8 . . 7 9\n",
            "\n",
            "Solved Sudoku board:\n",
            "5 3 4 6 7 8 9 1 2\n",
            "6 7 2 1 9 5 3 4 8\n",
            "1 9 8 3 4 2 5 6 7\n",
            "8 5 9 7 6 1 4 2 3\n",
            "4 2 6 8 5 3 7 9 1\n",
            "7 1 3 9 2 4 8 5 6\n",
            "9 6 1 5 3 7 2 8 4\n",
            "2 8 7 4 1 9 6 3 5\n",
            "3 4 5 2 8 6 1 7 9\n"
          ]
        }
      ],
      "source": [
        "def print_board(board):\n",
        "    for row in board:\n",
        "        print(\" \".join(str(num) if num != 0 else '.' for num in row))\n",
        "\n",
        "def find_empty_location(board):\n",
        "    for i in range(9):\n",
        "        for j in range(9):\n",
        "            if board[i][j] == 0:\n",
        "                return i, j\n",
        "    return None\n",
        "\n",
        "def is_valid(board, num, pos):\n",
        "    row, col = pos\n",
        "\n",
        "    # Check row\n",
        "    if any(board[row][i] == num for i in range(9)):\n",
        "        return False\n",
        "\n",
        "    # Check column\n",
        "    if any(board[i][col] == num for i in range(9)):\n",
        "        return False\n",
        "\n",
        "    # Check 3x3 box\n",
        "    box_x = row // 3\n",
        "    box_y = col // 3\n",
        "    for i in range(box_x * 3, box_x * 3 + 3):\n",
        "        for j in range(box_y * 3, box_y * 3 + 3):\n",
        "            if board[i][j] == num:\n",
        "                return False\n",
        "\n",
        "    return True\n",
        "\n",
        "def solve_sudoku(board):\n",
        "    empty_location = find_empty_location(board)\n",
        "    if not empty_location:\n",
        "        return True  # No empty location means puzzle solved\n",
        "\n",
        "    row, col = empty_location\n",
        "\n",
        "    for num in range(1, 10):\n",
        "        if is_valid(board, num, (row, col)):\n",
        "            board[row][col] = num\n",
        "\n",
        "            if solve_sudoku(board):\n",
        "                return True\n",
        "\n",
        "            board[row][col] = 0  # Reset if solution not found\n",
        "\n",
        "    return False\n",
        "\n",
        "# Example Sudoku puzzle (0s represent empty cells)\n",
        "sudoku_board = [\n",
        "    [5, 3, 0, 0, 7, 0, 0, 0, 0],\n",
        "    [6, 0, 0, 1, 9, 5, 0, 0, 0],\n",
        "    [0, 9, 8, 0, 0, 0, 0, 6, 0],\n",
        "    [8, 0, 0, 0, 6, 0, 0, 0, 3],\n",
        "    [4, 0, 0, 8, 0, 3, 0, 0, 1],\n",
        "    [7, 0, 0, 0, 2, 0, 0, 0, 6],\n",
        "    [0, 6, 0, 0, 0, 0, 2, 8, 0],\n",
        "    [0, 0, 0, 4, 1, 9, 0, 0, 5],\n",
        "    [0, 0, 0, 0, 8, 0, 0, 7, 9]\n",
        "]\n",
        "\n",
        "print(\"Original Sudoku board:\")\n",
        "print_board(sudoku_board)\n",
        "\n",
        "if solve_sudoku(sudoku_board):\n",
        "    print(\"\\nSolved Sudoku board:\")\n",
        "    print_board(sudoku_board)\n",
        "else:\n",
        "    print(\"No solution exists.\")\n"
      ]
    }
  ]
}